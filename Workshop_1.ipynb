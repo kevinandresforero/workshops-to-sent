{
 "cells": [
  {
   "cell_type": "markdown",
   "metadata": {},
   "source": [
    "# Workshop 1\n",
    "\n",
    "Here you're gonna test your __data scientist junior__ skills. Read carefully each one of the problems, write your own test cases, and validate everything works as expected."
   ]
  },
  {
   "cell_type": "markdown",
   "metadata": {},
   "source": [
    "## 1. Regular Expressions\n",
    "\n",
    "As follows complete the code based on the __requirement__. There is a part `#YOUR CODE HERE` where you _should complete_ to accomplish the task. However, you _could_ change anything you want."
   ]
  },
  {
   "cell_type": "markdown",
   "metadata": {},
   "source": [
    "### Problem 1.1\n",
    "\n",
    "Find a list of all of all of the names in the following string using _regex_."
   ]
  },
  {
   "cell_type": "code",
   "execution_count": 40,
   "metadata": {},
   "outputs": [
    {
     "data": {
      "text/plain": [
       "['Amy', 'Mary', 'Ruth', 'Peter']"
      ]
     },
     "execution_count": 40,
     "metadata": {},
     "output_type": "execute_result"
    }
   ],
   "source": [
    "import re\n",
    "\n",
    "def names(simple_string: str = \"\"\"Amy is 5 years old, and her sister Mary is 2 years old. \n",
    "Ruth and Peter, their parents, have 3 kids.\"\"\") -> list:\n",
    "    \"\"\"\n",
    "    This function retun a list of names of a simple sring.\n",
    "\n",
    "    Args: \n",
    "        simple_string: str\n",
    "\n",
    "    returns:\n",
    "        List of names in the simple_string Args\n",
    "    \"\"\"\n",
    "    pattern = '[A-Z][a-z]+'\n",
    "    #raise NotImplementedError() # remove this once you write your solution\n",
    "    return re.findall(pattern, simple_string)\n",
    "\n",
    "# create a simple string\n",
    "simple_string = \"\"\"Amy is 5 years old, and her sister Mary is 2 years old. \n",
    "Ruth and Peter, their parents, have 3 kids.\"\"\"\n",
    "names()"
   ]
  },
  {
   "cell_type": "code",
   "execution_count": 39,
   "metadata": {},
   "outputs": [],
   "source": [
    "# example of test case\n",
    "assert len(names()) == 4, \"There are four names in the simple_string.\""
   ]
  },
  {
   "cell_type": "markdown",
   "metadata": {},
   "source": [
    "### Problem 1.2\n",
    "\n",
    "The _dataset file_ in [assets/grades.txt](./assets/grades.txt) contains a line separated _list of people_ with their __grade__ in a class. Create a _regex_ to generate a list of just those students who received a __B__ in the course."
   ]
  },
  {
   "cell_type": "code",
   "execution_count": 14,
   "metadata": {},
   "outputs": [
    {
     "data": {
      "text/plain": [
       "['Bell Kassulke',\n",
       " 'Simon Loidl',\n",
       " 'Elias Jovanovic',\n",
       " 'Hakim Botros',\n",
       " 'Emilie Lorentsen',\n",
       " 'Jake Wood',\n",
       " 'Fatemeh Akhtar',\n",
       " 'Kim Weston',\n",
       " 'Yasmin Dar',\n",
       " 'Viswamitra Upandhye',\n",
       " 'Killian Kaufman',\n",
       " 'Elwood Page',\n",
       " 'Elodie Booker',\n",
       " 'Adnan Chen',\n",
       " 'Hank Spinka',\n",
       " 'Hannah Bayer']"
      ]
     },
     "execution_count": 14,
     "metadata": {},
     "output_type": "execute_result"
    }
   ],
   "source": [
    "import re\n",
    "\n",
    "\n",
    "def grades(file_to_read: str=\"assets/grades.txt\")-> list:\n",
    "    \"\"\" \n",
    "    This function read the grades.txt file and returns a list of students who recived a B.\n",
    "\n",
    "    Args:\n",
    "\n",
    "    Returns:\n",
    "        students_with_B: list of students who recived a B.\n",
    "    \"\"\"\n",
    "    with open(file_to_read, \"r\") as file:\n",
    "      grades_data = file.readlines()  # Read all lines\n",
    "\n",
    "    # YOUR CODE HERE\n",
    "    student_grades = {}\n",
    "    for line in grades_data:\n",
    "      pattern = r\"(\\w[\\w ]*):\\s*([A-Z])\"\n",
    "      match = re.match(pattern, line)\n",
    "      if match:\n",
    "        student_grades[match.group(1)] = match.group(2)  # Add to dictionary\n",
    "\n",
    "    students_with_B = [name for name, grade in student_grades.items() if grade == \"B\"]\n",
    "\n",
    "    return students_with_B\n",
    "\n",
    "grades()"
   ]
  },
  {
   "cell_type": "code",
   "execution_count": 31,
   "metadata": {},
   "outputs": [],
   "source": [
    "# example of test case\n",
    "assert len(grades()) == 16"
   ]
  },
  {
   "cell_type": "markdown",
   "metadata": {},
   "source": [
    "### Problem 1.3\n",
    "\n",
    "Consider the standard _web log file_ in [assets/logdata.txt](./assets/logdata.txt). This _file_ records the _access_ a user makes when visiting a web page. Each __line of the log__ has the following _items_:\n",
    "\n",
    "- a __host__ (e.g., `146.204.224.152`)\n",
    "- a __user_name__ (e.g., `feest6811`. _Hint:_ sometimes the user name is missing! In this case, use `-` as the value for the username.)\n",
    "- the __time__ a request was made (e.g., `21/Jun/2019:15:45:24 -0700`)\n",
    "- the post __request type__ (e.g., `POST /incentivize HTTP/1.1`. _Note:_ not everything is a POST!)\n",
    "\n",
    "Your task is to convert this into a list of dictionaries, where each dictionary looks like the following:\n",
    "\n",
    "```python\n",
    "example_dict = {\"host\":\"146.204.224.152\", \n",
    "                \"user_name\":\"feest6811\", \n",
    "                \"time\":\"21/Jun/2019:15:45:24 -0700\",\n",
    "                \"request\":\"POST /incentivize HTTP/1.1\"}\n",
    "```"
   ]
  },
  {
   "cell_type": "code",
   "execution_count": 73,
   "metadata": {},
   "outputs": [],
   "source": [
    "import re\n",
    "\n",
    "def parse_log_line(line):\n",
    "    \"\"\"\n",
    "    This function attempts to parse a given log line using a regular expression\n",
    "    that matches the expected format of web server log entries. If the line matches\n",
    "    the pattern, a dictionary is returned containing the following information:\n",
    "\n",
    "    * host (str): The IP address of the machine that made the request.\n",
    "    * user_name (str): The username of the person who made the request (or \"-\" if not available).\n",
    "    * time (str): The date and time the request was made, including the time zone offset.\n",
    "    * request (str): The complete HTTP request string, including method, target, and protocol version.\n",
    "\n",
    "    If the line does not match the expected format, the function returns `None`.\n",
    "\n",
    "    Args:\n",
    "        line (str): A single line from a web server log file.\n",
    "\n",
    "    Returns:\n",
    "        dict: A dictionary containing parsed data from the log line, or `None` if parsing fails.\n",
    "    \"\"\"\n",
    "    pattern = r'(\\S+) (\\S+) (\\S+) \\[(.*?)\\] \"(.*?)\" (\\d+) (\\d+)'\n",
    "    match = re.match(pattern, line)\n",
    "    \n",
    "    if match:\n",
    "        host, _, user_name, time, request, _, _ = match.groups()\n",
    "        \n",
    "        # Replace '-' with '-' for consistency if username is missing\n",
    "        user_name = user_name if user_name != '-' else '-'\n",
    "        \n",
    "        return {\n",
    "            \"host\": host,\n",
    "            \"user_name\": user_name,\n",
    "            \"time\": time,\n",
    "            \"request\": request\n",
    "        }\n",
    "    return None\n",
    "\n",
    "def logs(file_path: str = 'assets/logdata.txt'):\n",
    "    \"\"\"\n",
    "    This function reads a web server log file in the specified format and parses each line \n",
    "    into a dictionary\n",
    "\n",
    "    Args:\n",
    "        filepath (str): The path to the web server log file.\n",
    "\n",
    "    Returns:\n",
    "        list: A list of dictionaries, where each dictionary represents a parsed log entry.\n",
    "\"\"\"\n",
    "    log_data = []\n",
    "    \n",
    "    with open(file_path, 'r') as file:\n",
    "        for line in file:\n",
    "            parsed_line = parse_log_line(line.strip())\n",
    "            if parsed_line:\n",
    "                log_data.append(parsed_line)\n",
    "    return log_data\n",
    "\n",
    "# Usage\n",
    "#result = process_log_file()\n",
    "#print(result)\n"
   ]
  },
  {
   "cell_type": "code",
   "execution_count": 72,
   "metadata": {},
   "outputs": [],
   "source": [
    "# example of test case\n",
    "one_item = {\n",
    "    \"host\": \"146.204.224.152\",\n",
    "    \"user_name\": \"feest6811\",\n",
    "    \"time\": \"21/Jun/2019:15:45:24 -0700\",\n",
    "    \"request\": \"POST /incentivize HTTP/1.1\",\n",
    "}\n",
    "assert (\n",
    "    one_item in logs()\n",
    "), \"Sorry, this item should be in the log results, check your formating\""
   ]
  },
  {
   "cell_type": "markdown",
   "metadata": {},
   "source": [
    "# 2. Descriptive Analysis\n",
    "\n",
    "For this section, you'll be looking at _2017 data on immunizations_ from the _CDC_. Your _datafile_ for next tasks is in [assets/NISPUF17.csv](./assets/NISPUF17.csv). A _data users guide_ for this, which you'll need to map the variables in the data to the questions being asked, is available at [assets/NIS-PUF17-DUG.pdf](./assets/NIS-PUF17-DUG.pdf)."
   ]
  },
  {
   "cell_type": "markdown",
   "metadata": {},
   "source": [
    "# Problem 2.1\n",
    "\n",
    "Write a function called _proportion\\_of\\_education_ which returns the proportion of __children__ in the dataset who had a mother with the education levels equal to less than high school ($<12$), high school ($12$), more than high school but not a college graduate ($>12$) and _college degree_.\n",
    "\n",
    "This _function_ should return a __dictionary__ in the form of (use the _correct numbers_, do not round numbers):\n",
    "\n",
    "```python\n",
    "{\n",
    "    \"less than high school\": 0.2,\n",
    "    \"high school\": 0.4,\n",
    "    \"more than high school but not college\": 0.2,\n",
    "    \"college\": 0.2\n",
    "}\n",
    "```"
   ]
  },
  {
   "cell_type": "code",
   "execution_count": 98,
   "metadata": {},
   "outputs": [
    {
     "data": {
      "text/plain": [
       "'print(result)\\nn = result[\\'less than high school\\']+result[\"high school\"]+result[\"more than high school but not college\"]+result[\\'college\\']\\nprint(f\\'Total proportion: {n}%\\')'"
      ]
     },
     "execution_count": 98,
     "metadata": {},
     "output_type": "execute_result"
    }
   ],
   "source": [
    "import pandas as pd\n",
    "\n",
    "def proportion_of_education() -> dict:\n",
    "    \"\"\"\n",
    "    This function reads the assets/NISPUF17.csv csv file and return a dictionary to contain the proportions of children in the dataset who had a mother with the education levels\n",
    "\n",
    "    Args:\n",
    "\n",
    "    Returns:\n",
    "        dictionary\n",
    "    \"\"\"\n",
    "    proportions = {}\n",
    "\n",
    "    df = pd.read_csv('assets/NISPUF17.csv')\n",
    "    \n",
    "    total_count = len(df)\n",
    "    \n",
    "    education_counts = df['EDUC1'].value_counts()\n",
    "    \n",
    "    proportions = {\n",
    "        \"less than high school\": education_counts.get(1, 0) / total_count,\n",
    "        \"high school\": education_counts.get(2, 0) / total_count,\n",
    "        \"more than high school but not college\": education_counts.get(3, 0) / total_count,\n",
    "        \"college\": education_counts.get(4, 0) / total_count\n",
    "    }\n",
    "\n",
    "    return proportions\n",
    "\n",
    "\n",
    "result = proportion_of_education()\n",
    "\"\"\"print(result)\n",
    "n = result['less than high school']+result[\"high school\"]+result[\"more than high school but not college\"]+result['college']\n",
    "print(f'Total proportion: {n}%')\"\"\""
   ]
  },
  {
   "cell_type": "code",
   "execution_count": 99,
   "metadata": {},
   "outputs": [],
   "source": [
    "# example of test cases\n",
    "assert type(proportion_of_education()) == type({}), \"You must return a dictionary.\"\n",
    "assert (\n",
    "    len(proportion_of_education()) == 4\n",
    "), \"You have not returned a dictionary with four items in it.\""
   ]
  },
  {
   "cell_type": "markdown",
   "metadata": {},
   "source": [
    "## Problem 2.2\n",
    "\n",
    "Let's explore the relationship between being _fed breastmilk_ as a child and getting a seasonal _influenza vaccine_ from a healthcare provider. Return a __tuple__ of the _average number of influenza vaccines_ for those children we know received breastmilk as a child and those who know did not.\n",
    "\n",
    "This _function_ should return a __tuple__ in the form (use the _correct numbers_):\n",
    "\n",
    "```python\n",
    "(2.5, 0.1)\n",
    "```"
   ]
  },
  {
   "cell_type": "code",
   "execution_count": 105,
   "metadata": {},
   "outputs": [
    {
     "name": "stdout",
     "output_type": "stream",
     "text": [
      "(1.8799187420058687, 1.5963945918878317)\n"
     ]
    }
   ],
   "source": [
    "import pandas as pd\n",
    "import numpy as np\n",
    "\n",
    "def average_influenza_doses(filepath: str='assets/NISPUF17.csv') -> tuple:\n",
    "    \"\"\"Calculates average influenza doses for breastfed and non-breastfed children.\n",
    "\n",
    "    This function reads influenza vaccination data from a CSV file and calculates the\n",
    "    average number of influenza doses received by two groups of children:\n",
    "\n",
    "    * Children who received breast milk (CBF_01 = 1)\n",
    "    * Children who did not receive breast milk (CBF_01 = 2)\n",
    "\n",
    "    The function assumes the CSV file contains a column named 'P_NUMFLU' representing\n",
    "    the number of influenza doses received by each child, and a column named 'CBF_01'\n",
    "    indicating whether the child received breast milk (1) or not (2).\n",
    "\n",
    "    Args:\n",
    "        filepath (str, optional): The path to the CSV file containing influenza vaccination data.\n",
    "            Defaults to 'assets/NISPUF17.csv'.\n",
    "\n",
    "    Returns:\n",
    "        tuple: A tuple containing two elements:\n",
    "            - Average number of influenza doses for breastfed children (float).\n",
    "            - Average number of influenza doses for non-breastfed children (float).\n",
    "\n",
    "    Raises:\n",
    "        FileNotFoundError: If the specified CSV file is not found.\n",
    "    \"\"\"\n",
    "    df = pd.read_csv(filepath)\n",
    "    \n",
    "    # Filter for children who received breast milk\n",
    "    breastfed = df[df['CBF_01'] == 1]\n",
    "    \n",
    "    # Filter for children who did not receive breast milk\n",
    "    not_breastfed = df[df['CBF_01'] == 2]\n",
    "    \n",
    "    # Calculate average influenza doses for breastfed children\n",
    "    avg_doses_breastfed = np.mean(breastfed['P_NUMFLU'].dropna())\n",
    "    \n",
    "    # Calculate average influenza doses for non-breastfed children\n",
    "    avg_doses_not_breastfed = np.mean(not_breastfed['P_NUMFLU'].dropna())\n",
    "    \n",
    "    return (avg_doses_breastfed, avg_doses_not_breastfed)\n",
    "\n",
    "# Call the function and print the result\n",
    "#result = average_influenza_doses()\n",
    "#print(result)"
   ]
  },
  {
   "cell_type": "code",
   "execution_count": 101,
   "metadata": {},
   "outputs": [],
   "source": [
    "# example of test cases\n",
    "assert (\n",
    "    len(average_influenza_doses()) == 2\n",
    "), \"Return two values in a tuple, the first for yes and the second for no.\""
   ]
  },
  {
   "cell_type": "markdown",
   "metadata": {},
   "source": [
    "## Problem 2.3\n",
    "\n",
    "It would be interesting to see if there is any evidence of a link between _vaccine effectiveness_ and _sex of the child_. Calculate the _ratio of the number of children_ who contracted __chickenpox__ but _were vaccinated against it_ (at least one varicella dose) versus those who were vaccinated but did not contract _chicken pox_. Return results by _sex_.\n",
    "\n",
    "This _function_ should return a __dictionary__ in the form of (use the _correct numbers_):\n",
    "\n",
    "```python\n",
    "{\n",
    "    \"male\":0.2,\n",
    "    \"female\":0.4\n",
    "}\n",
    "```\n",
    "\n",
    "_Note:_ To aid in verification, the `chickenpox_by_sex()['female']` value the autograder is looking for starts with the digits `0.0077`.\n"
   ]
  },
  {
   "cell_type": "code",
   "execution_count": 114,
   "metadata": {},
   "outputs": [
    {
     "name": "stdout",
     "output_type": "stream",
     "text": [
      "{'male': 0.009645390070921986, 'female': 0.007766705744431419}\n"
     ]
    },
    {
     "name": "stderr",
     "output_type": "stream",
     "text": [
      "/tmp/ipykernel_7947/2721771519.py:31: DeprecationWarning: DataFrameGroupBy.apply operated on the grouping columns. This behavior is deprecated, and in a future version of pandas the grouping columns will be excluded from the operation. Either pass `include_groups=False` to exclude the groupings or explicitly select the grouping columns after groupby to silence this warning.\n",
      "  ratios = df_filtered.groupby('SEX').apply(calculate_ratio)\n"
     ]
    }
   ],
   "source": [
    "import pandas as pd\n",
    "\n",
    "def chickenpox_by_sex():\n",
    "    \"\"\" \n",
    "    This functin calculates the ratio of vaccinated children with chickenpox to vaccinated children without chickenpox, for males and females.\n",
    "\n",
    "    Args:\n",
    "    filepath (str, optional): The path to the CSV file containing chickenpox data.\n",
    "        Defaults to 'assets/NISPUF17.csv'.\n",
    "\n",
    "    Returns:\n",
    "        dict: A dictionary containing the calculated ratios for males and females.\n",
    "            - 'male': Ratio for males (float).\n",
    "            - 'female': Ratio for females (float).\n",
    "    \"\"\"\n",
    "    # Read the CSV file\n",
    "    df = pd.read_csv('assets/NISPUF17.csv')\n",
    "    \n",
    "    # Function to calculate ratio for each sex\n",
    "    def calculate_ratio(group):\n",
    "        vaccinated = group['P_NUMVRC'] >= 1\n",
    "        had_chickenpox = group['HAD_CPOX'] == 1\n",
    "        vaccinated_with_chickenpox = (vaccinated & had_chickenpox).sum()\n",
    "        vaccinated_without_chickenpox = (vaccinated & ~had_chickenpox).sum()\n",
    "        return vaccinated_with_chickenpox / vaccinated_without_chickenpox if vaccinated_without_chickenpox != 0 else 0\n",
    "\n",
    "    # Filter out rows with missing values\n",
    "    df_filtered = df.dropna(subset=['HAD_CPOX', 'P_NUMVRC', 'SEX'])\n",
    "    \n",
    "    # Group by sex and calculate ratio\n",
    "    ratios = df_filtered.groupby('SEX').apply(calculate_ratio)\n",
    "    \n",
    "    # Create dictionary with results\n",
    "    stats = {\n",
    "        \"male\": ratios.get(1, 0),\n",
    "        \"female\": ratios.get(2, 0)\n",
    "    }\n",
    "    \n",
    "    return stats\n",
    "\n",
    "# Call the function and print the result\n",
    "#result = chickenpox_by_sex()\n",
    "#print(result)"
   ]
  },
  {
   "cell_type": "markdown",
   "metadata": {},
   "source": [
    "## Problem 2.4\n",
    "\n",
    "A __correlation__ is a _statistical relationship_ between two variables. If we wanted to know _if vaccines work_, we might look at the correlation between the use of the vaccine and whether it results in prevention of the infection or disease. In this task, you are to see if there is a correlation between _having had the chicken pox_ and the _number of chickenpox vaccine doses given_ (varicella).\n",
    "\n",
    "Some notes on interpreting the answer. The `had_chickenpox_column` is either $1$ (for _yes_) or $2$ (for _no_), and the `num_chickenpox_vaccine_column` is the number of doses a child has been given of the varicella vaccine. A _positive correlation_ (e.g., $corr > 0$) means that an increase in _had\\_chickenpox\\_column_ (which means more _no_’s) would also increase the values of _num\\_chickenpox\\_vaccine\\_column_ (which means _more doses of vaccine_). If there is a _negative correlation_ (e.g., $corr < 0$), it indicates that having had chickenpox is related to an increase in the number of vaccine doses.\n",
    "\n",
    "Also, $pval$ is the probability that we observe a correlation between _had\\_chickenpox\\_column_ and _num\\_chickenpox\\_vaccine\\_column_ which is greater than or equal to a particular value occurred by chance. A _small pval_ means that the observed correlation is highly unlikely to occur by chance. In this case, _pval_ should be very small (will end in $e-18$ indicating a very small number)."
   ]
  },
  {
   "cell_type": "code",
   "execution_count": 122,
   "metadata": {},
   "outputs": [],
   "source": [
    "import scipy.stats as stats\n",
    "import numpy as np\n",
    "import pandas as pd\n",
    "\n",
    "def corr_chickenpox(filepath: str ='assets/NISPUF17.csv') -> tuple:\n",
    "    \"\"\" \n",
    "    This function reads data on chickenpox vaccination and disease status from a CSV file\n",
    "    and calculates the Pearson correlation coefficient between two variables:\n",
    "\n",
    "    * Having chickenpox (binary: 1 - had chickenpox, 0 - no chickenpox)\n",
    "    * Number of varicella vaccinations received\n",
    "\n",
    "    Args:\n",
    "    filepath (str, optional): The path to the CSV file containing chickenpox data.\n",
    "        Defaults to 'assets/NISPUF17.csv'.\n",
    "\n",
    "    Returns:\n",
    "        float: The Pearson correlation coefficient between having chickenpox and the number of chickenpox vaccines received.\n",
    "    \"\"\"\n",
    "    # Read the CSV file\n",
    "    df = pd.read_csv('assets/NISPUF17.csv')\n",
    "    \n",
    "    # Select relevant columns and drop rows with missing values\n",
    "    df = df[['HAD_CPOX', 'P_NUMVRC']].dropna()\n",
    "    \n",
    "    # Rename columns for clarity\n",
    "    df = df.rename(columns={'HAD_CPOX': 'had_chickenpox_column', \n",
    "                            'P_NUMVRC': 'num_chickenpox_vaccine_column'})\n",
    "    \n",
    "    # Calculate the correlation\n",
    "    corr, pval = stats.pearsonr(df[\"had_chickenpox_column\"],\n",
    "                                df[\"num_chickenpox_vaccine_column\"])\n",
    "    \n",
    "    return corr\n",
    "\n",
    "# Call the function and print the result\n",
    "#result = corr_chickenpox()\n",
    "#print(f\"Correlation {type(result)}: {result}\")"
   ]
  },
  {
   "cell_type": "code",
   "execution_count": 118,
   "metadata": {},
   "outputs": [],
   "source": [
    "# example of test cases\n",
    "assert (\n",
    "    -1 <= corr_chickenpox() <= 1\n",
    "), \"You must return a float number between -1.0 and 1.0.\""
   ]
  }
 ],
 "metadata": {
  "kernelspec": {
   "display_name": "data_science_course",
   "language": "python",
   "name": "python3"
  },
  "language_info": {
   "codemirror_mode": {
    "name": "ipython",
    "version": 3
   },
   "file_extension": ".py",
   "mimetype": "text/x-python",
   "name": "python",
   "nbconvert_exporter": "python",
   "pygments_lexer": "ipython3",
   "version": "3.11.9"
  }
 },
 "nbformat": 4,
 "nbformat_minor": 2
}

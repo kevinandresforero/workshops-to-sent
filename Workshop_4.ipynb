{
    "cells": [
     {
      "cell_type": "markdown",
      "metadata": {},
      "source": [
       "# WorkShop 4\n",
       "\n",
       "It is the time to be a Machine Learning Engineer. Pay a lot of attention for instructions."
      ]
     },
     {
      "cell_type": "markdown",
      "metadata": {},
      "source": [
       "# Section 1\n",
       "\n",
       "For this assignment, you will be using the _Breast Cancer Wisconsin_ (Diagnostic) Database to create a classifier that can help diagnose patients. First, read through the description of the dataset (below).\n"
      ]
     },
     {
      "cell_type": "code",
      "execution_count": 37,
      "metadata": {},
      "outputs": [
       {
        "name": "stdout",
        "output_type": "stream",
        "text": [
         ".. _breast_cancer_dataset:\n",
         "\n",
         "Breast cancer wisconsin (diagnostic) dataset\n",
         "--------------------------------------------\n",
         "\n",
         "**Data Set Characteristics:**\n",
         "\n",
         ":Number of Instances: 569\n",
         "\n",
         ":Number of Attributes: 30 numeric, predictive attributes and the class\n",
         "\n",
         ":Attribute Information:\n",
         "    - radius (mean of distances from center to points on the perimeter)\n",
         "    - texture (standard deviation of gray-scale values)\n",
         "    - perimeter\n",
         "    - area\n",
         "    - smoothness (local variation in radius lengths)\n",
         "    - compactness (perimeter^2 / area - 1.0)\n",
         "    - concavity (severity of concave portions of the contour)\n",
         "    - concave points (number of concave portions of the contour)\n",
         "    - symmetry\n",
         "    - fractal dimension (\"coastline approximation\" - 1)\n",
         "\n",
         "    The mean, standard error, and \"worst\" or largest (mean of the three\n",
         "    worst/largest values) of these features were computed for each image,\n",
         "    resulting in 30 features.  For instance, field 0 is Mean Radius, field\n",
         "    10 is Radius SE, field 20 is Worst Radius.\n",
         "\n",
         "    - class:\n",
         "            - WDBC-Malignant\n",
         "            - WDBC-Benign\n",
         "\n",
         ":Summary Statistics:\n",
         "\n",
         "===================================== ====== ======\n",
         "                                        Min    Max\n",
         "===================================== ====== ======\n",
         "radius (mean):                        6.981  28.11\n",
         "texture (mean):                       9.71   39.28\n",
         "perimeter (mean):                     43.79  188.5\n",
         "area (mean):                          143.5  2501.0\n",
         "smoothness (mean):                    0.053  0.163\n",
         "compactness (mean):                   0.019  0.345\n",
         "concavity (mean):                     0.0    0.427\n",
         "concave points (mean):                0.0    0.201\n",
         "symmetry (mean):                      0.106  0.304\n",
         "fractal dimension (mean):             0.05   0.097\n",
         "radius (standard error):              0.112  2.873\n",
         "texture (standard error):             0.36   4.885\n",
         "perimeter (standard error):           0.757  21.98\n",
         "area (standard error):                6.802  542.2\n",
         "smoothness (standard error):          0.002  0.031\n",
         "compactness (standard error):         0.002  0.135\n",
         "concavity (standard error):           0.0    0.396\n",
         "concave points (standard error):      0.0    0.053\n",
         "symmetry (standard error):            0.008  0.079\n",
         "fractal dimension (standard error):   0.001  0.03\n",
         "radius (worst):                       7.93   36.04\n",
         "texture (worst):                      12.02  49.54\n",
         "perimeter (worst):                    50.41  251.2\n",
         "area (worst):                         185.2  4254.0\n",
         "smoothness (worst):                   0.071  0.223\n",
         "compactness (worst):                  0.027  1.058\n",
         "concavity (worst):                    0.0    1.252\n",
         "concave points (worst):               0.0    0.291\n",
         "symmetry (worst):                     0.156  0.664\n",
         "fractal dimension (worst):            0.055  0.208\n",
         "===================================== ====== ======\n",
         "\n",
         ":Missing Attribute Values: None\n",
         "\n",
         ":Class Distribution: 212 - Malignant, 357 - Benign\n",
         "\n",
         ":Creator:  Dr. William H. Wolberg, W. Nick Street, Olvi L. Mangasarian\n",
         "\n",
         ":Donor: Nick Street\n",
         "\n",
         ":Date: November, 1995\n",
         "\n",
         "This is a copy of UCI ML Breast Cancer Wisconsin (Diagnostic) datasets.\n",
         "https://goo.gl/U2Uwz2\n",
         "\n",
         "Features are computed from a digitized image of a fine needle\n",
         "aspirate (FNA) of a breast mass.  They describe\n",
         "characteristics of the cell nuclei present in the image.\n",
         "\n",
         "Separating plane described above was obtained using\n",
         "Multisurface Method-Tree (MSM-T) [K. P. Bennett, \"Decision Tree\n",
         "Construction Via Linear Programming.\" Proceedings of the 4th\n",
         "Midwest Artificial Intelligence and Cognitive Science Society,\n",
         "pp. 97-101, 1992], a classification method which uses linear\n",
         "programming to construct a decision tree.  Relevant features\n",
         "were selected using an exhaustive search in the space of 1-4\n",
         "features and 1-3 separating planes.\n",
         "\n",
         "The actual linear program used to obtain the separating plane\n",
         "in the 3-dimensional space is that described in:\n",
         "[K. P. Bennett and O. L. Mangasarian: \"Robust Linear\n",
         "Programming Discrimination of Two Linearly Inseparable Sets\",\n",
         "Optimization Methods and Software 1, 1992, 23-34].\n",
         "\n",
         "This database is also available through the UW CS ftp server:\n",
         "\n",
         "ftp ftp.cs.wisc.edu\n",
         "cd math-prog/cpo-dataset/machine-learn/WDBC/\n",
         "\n",
         ".. dropdown:: References\n",
         "\n",
         "  - W.N. Street, W.H. Wolberg and O.L. Mangasarian. Nuclear feature extraction\n",
         "    for breast tumor diagnosis. IS&T/SPIE 1993 International Symposium on\n",
         "    Electronic Imaging: Science and Technology, volume 1905, pages 861-870,\n",
         "    San Jose, CA, 1993.\n",
         "  - O.L. Mangasarian, W.N. Street and W.H. Wolberg. Breast cancer diagnosis and\n",
         "    prognosis via linear programming. Operations Research, 43(4), pages 570-577,\n",
         "    July-August 1995.\n",
         "  - W.H. Wolberg, W.N. Street, and O.L. Mangasarian. Machine learning techniques\n",
         "    to diagnose breast cancer from fine-needle aspirates. Cancer Letters 77 (1994)\n",
         "    163-171.\n",
         "\n"
        ]
       }
      ],
      "source": [
       "import numpy as np\n",
       "import pandas as pd\n",
       "from sklearn.datasets import load_breast_cancer\n",
       "\n",
       "cancer = load_breast_cancer()\n",
       "\n",
       "print(cancer.DESCR)"
      ]
     },
     {
      "cell_type": "markdown",
      "metadata": {},
      "source": [
       "### Problem 1.1\n",
       "\n",
       "_Scikit-learn_ works with lists, numpy arrays, scipy-sparse matrices, and pandas DataFrames, so converting the dataset to a DataFrame is not necessary for training this model. Using a _DataFrame_ does however help make many things easier such as munging data, so let's practice creating a classifier with a pandas DataFrame. \n",
       "\n",
       "\n",
       "Convert the sklearn.dataset `cancer` to a DataFrame. \n",
       "\n",
       "_This function should return a_ `(569, 31)` _DataFrame with:_\n",
       "\n",
       "```\n",
       "columns = \n",
       "    ['mean radius', 'mean texture', 'mean perimeter', 'mean area',\n",
       "    'mean smoothness', 'mean compactness', 'mean concavity',\n",
       "    'mean concave points', 'mean symmetry', 'mean fractal dimension',\n",
       "    'radius error', 'texture error', 'perimeter error', 'area error',\n",
       "    'smoothness error', 'compactness error', 'concavity error',\n",
       "    'concave points error', 'symmetry error', 'fractal dimension error',\n",
       "    'worst radius', 'worst texture', 'worst perimeter', 'worst area',\n",
       "    'worst smoothness', 'worst compactness', 'worst concavity',\n",
       "    'worst concave points', 'worst symmetry', 'worst fractal dimension',\n",
       "    'target']\n",
       "\n",
       "index = RangeIndex(start=0, stop=569, step=1)\n",
       "```"
      ]
     },
     {
      "cell_type": "code",
      "execution_count": 38,
      "metadata": {},
      "outputs": [
       {
        "name": "stdout",
        "output_type": "stream",
        "text": [
         "(569, 31)\n"
        ]
       },
       {
        "data": {
         "text/html": [
          "<div>\n",
          "<style scoped>\n",
          "    .dataframe tbody tr th:only-of-type {\n",
          "        vertical-align: middle;\n",
          "    }\n",
          "\n",
          "    .dataframe tbody tr th {\n",
          "        vertical-align: top;\n",
          "    }\n",
          "\n",
          "    .dataframe thead th {\n",
          "        text-align: right;\n",
          "    }\n",
          "</style>\n",
          "<table border=\"1\" class=\"dataframe\">\n",
          "  <thead>\n",
          "    <tr style=\"text-align: right;\">\n",
          "      <th></th>\n",
          "      <th>mean radius</th>\n",
          "      <th>mean texture</th>\n",
          "      <th>mean perimeter</th>\n",
          "      <th>mean area</th>\n",
          "      <th>mean smoothness</th>\n",
          "      <th>mean compactness</th>\n",
          "      <th>mean concavity</th>\n",
          "      <th>mean concave points</th>\n",
          "      <th>mean symmetry</th>\n",
          "      <th>mean fractal dimension</th>\n",
          "      <th>...</th>\n",
          "      <th>worst texture</th>\n",
          "      <th>worst perimeter</th>\n",
          "      <th>worst area</th>\n",
          "      <th>worst smoothness</th>\n",
          "      <th>worst compactness</th>\n",
          "      <th>worst concavity</th>\n",
          "      <th>worst concave points</th>\n",
          "      <th>worst symmetry</th>\n",
          "      <th>worst fractal dimension</th>\n",
          "      <th>target</th>\n",
          "    </tr>\n",
          "  </thead>\n",
          "  <tbody>\n",
          "    <tr>\n",
          "      <th>0</th>\n",
          "      <td>17.99</td>\n",
          "      <td>10.38</td>\n",
          "      <td>122.80</td>\n",
          "      <td>1001.0</td>\n",
          "      <td>0.11840</td>\n",
          "      <td>0.27760</td>\n",
          "      <td>0.3001</td>\n",
          "      <td>0.14710</td>\n",
          "      <td>0.2419</td>\n",
          "      <td>0.07871</td>\n",
          "      <td>...</td>\n",
          "      <td>17.33</td>\n",
          "      <td>184.60</td>\n",
          "      <td>2019.0</td>\n",
          "      <td>0.1622</td>\n",
          "      <td>0.6656</td>\n",
          "      <td>0.7119</td>\n",
          "      <td>0.2654</td>\n",
          "      <td>0.4601</td>\n",
          "      <td>0.11890</td>\n",
          "      <td>0</td>\n",
          "    </tr>\n",
          "    <tr>\n",
          "      <th>1</th>\n",
          "      <td>20.57</td>\n",
          "      <td>17.77</td>\n",
          "      <td>132.90</td>\n",
          "      <td>1326.0</td>\n",
          "      <td>0.08474</td>\n",
          "      <td>0.07864</td>\n",
          "      <td>0.0869</td>\n",
          "      <td>0.07017</td>\n",
          "      <td>0.1812</td>\n",
          "      <td>0.05667</td>\n",
          "      <td>...</td>\n",
          "      <td>23.41</td>\n",
          "      <td>158.80</td>\n",
          "      <td>1956.0</td>\n",
          "      <td>0.1238</td>\n",
          "      <td>0.1866</td>\n",
          "      <td>0.2416</td>\n",
          "      <td>0.1860</td>\n",
          "      <td>0.2750</td>\n",
          "      <td>0.08902</td>\n",
          "      <td>0</td>\n",
          "    </tr>\n",
          "    <tr>\n",
          "      <th>2</th>\n",
          "      <td>19.69</td>\n",
          "      <td>21.25</td>\n",
          "      <td>130.00</td>\n",
          "      <td>1203.0</td>\n",
          "      <td>0.10960</td>\n",
          "      <td>0.15990</td>\n",
          "      <td>0.1974</td>\n",
          "      <td>0.12790</td>\n",
          "      <td>0.2069</td>\n",
          "      <td>0.05999</td>\n",
          "      <td>...</td>\n",
          "      <td>25.53</td>\n",
          "      <td>152.50</td>\n",
          "      <td>1709.0</td>\n",
          "      <td>0.1444</td>\n",
          "      <td>0.4245</td>\n",
          "      <td>0.4504</td>\n",
          "      <td>0.2430</td>\n",
          "      <td>0.3613</td>\n",
          "      <td>0.08758</td>\n",
          "      <td>0</td>\n",
          "    </tr>\n",
          "    <tr>\n",
          "      <th>3</th>\n",
          "      <td>11.42</td>\n",
          "      <td>20.38</td>\n",
          "      <td>77.58</td>\n",
          "      <td>386.1</td>\n",
          "      <td>0.14250</td>\n",
          "      <td>0.28390</td>\n",
          "      <td>0.2414</td>\n",
          "      <td>0.10520</td>\n",
          "      <td>0.2597</td>\n",
          "      <td>0.09744</td>\n",
          "      <td>...</td>\n",
          "      <td>26.50</td>\n",
          "      <td>98.87</td>\n",
          "      <td>567.7</td>\n",
          "      <td>0.2098</td>\n",
          "      <td>0.8663</td>\n",
          "      <td>0.6869</td>\n",
          "      <td>0.2575</td>\n",
          "      <td>0.6638</td>\n",
          "      <td>0.17300</td>\n",
          "      <td>0</td>\n",
          "    </tr>\n",
          "    <tr>\n",
          "      <th>4</th>\n",
          "      <td>20.29</td>\n",
          "      <td>14.34</td>\n",
          "      <td>135.10</td>\n",
          "      <td>1297.0</td>\n",
          "      <td>0.10030</td>\n",
          "      <td>0.13280</td>\n",
          "      <td>0.1980</td>\n",
          "      <td>0.10430</td>\n",
          "      <td>0.1809</td>\n",
          "      <td>0.05883</td>\n",
          "      <td>...</td>\n",
          "      <td>16.67</td>\n",
          "      <td>152.20</td>\n",
          "      <td>1575.0</td>\n",
          "      <td>0.1374</td>\n",
          "      <td>0.2050</td>\n",
          "      <td>0.4000</td>\n",
          "      <td>0.1625</td>\n",
          "      <td>0.2364</td>\n",
          "      <td>0.07678</td>\n",
          "      <td>0</td>\n",
          "    </tr>\n",
          "  </tbody>\n",
          "</table>\n",
          "<p>5 rows × 31 columns</p>\n",
          "</div>"
         ],
         "text/plain": [
          "   mean radius  mean texture  mean perimeter  mean area  mean smoothness  \\\n",
          "0        17.99         10.38          122.80     1001.0          0.11840   \n",
          "1        20.57         17.77          132.90     1326.0          0.08474   \n",
          "2        19.69         21.25          130.00     1203.0          0.10960   \n",
          "3        11.42         20.38           77.58      386.1          0.14250   \n",
          "4        20.29         14.34          135.10     1297.0          0.10030   \n",
          "\n",
          "   mean compactness  mean concavity  mean concave points  mean symmetry  \\\n",
          "0           0.27760          0.3001              0.14710         0.2419   \n",
          "1           0.07864          0.0869              0.07017         0.1812   \n",
          "2           0.15990          0.1974              0.12790         0.2069   \n",
          "3           0.28390          0.2414              0.10520         0.2597   \n",
          "4           0.13280          0.1980              0.10430         0.1809   \n",
          "\n",
          "   mean fractal dimension  ...  worst texture  worst perimeter  worst area  \\\n",
          "0                 0.07871  ...          17.33           184.60      2019.0   \n",
          "1                 0.05667  ...          23.41           158.80      1956.0   \n",
          "2                 0.05999  ...          25.53           152.50      1709.0   \n",
          "3                 0.09744  ...          26.50            98.87       567.7   \n",
          "4                 0.05883  ...          16.67           152.20      1575.0   \n",
          "\n",
          "   worst smoothness  worst compactness  worst concavity  worst concave points  \\\n",
          "0            0.1622             0.6656           0.7119                0.2654   \n",
          "1            0.1238             0.1866           0.2416                0.1860   \n",
          "2            0.1444             0.4245           0.4504                0.2430   \n",
          "3            0.2098             0.8663           0.6869                0.2575   \n",
          "4            0.1374             0.2050           0.4000                0.1625   \n",
          "\n",
          "   worst symmetry  worst fractal dimension  target  \n",
          "0          0.4601                  0.11890       0  \n",
          "1          0.2750                  0.08902       0  \n",
          "2          0.3613                  0.08758       0  \n",
          "3          0.6638                  0.17300       0  \n",
          "4          0.2364                  0.07678       0  \n",
          "\n",
          "[5 rows x 31 columns]"
         ]
        },
        "execution_count": 38,
        "metadata": {},
        "output_type": "execute_result"
       }
      ],
      "source": [
       "import pandas as pd\n",
       "from sklearn.datasets import load_breast_cancer\n",
       "\n",
       "def answer_one():\n",
       "    # Get the data\n",
       "    cancer = load_breast_cancer()\n",
       "    \n",
       "    # Crear un DataFrame con los datos\n",
       "    df_cancer = pd.DataFrame(data=cancer.data, columns=cancer.feature_names)\n",
       "    \n",
       "    # Agregar la columna 'target'\n",
       "    df_cancer['target'] = cancer.target\n",
       "    \n",
       "    # Devolver el DataFrame\n",
       "    return df_cancer\n",
       "\n",
       "# Ejecutar la función y mostrar el DataFrame resultante\n",
       "df_cancer = answer_one()\n",
       "print(df_cancer.shape)\n",
       "df_cancer.head()\n"
      ]
     },
     {
      "cell_type": "code",
      "execution_count": 39,
      "metadata": {},
      "outputs": [],
      "source": [
       "# space for professor tests"
      ]
     },
     {
      "cell_type": "markdown",
      "metadata": {},
      "source": [
       "### Problem 1.2\n",
       "\n",
       "What is the class distribution? (i.e. how many instances of `malignant` and how many `benign`?)\n",
       "\n",
       "_This function should return a Series named `target` of length 2 with integer values and index =_ `['malignant', 'benign']`"
      ]
     },
     {
      "cell_type": "code",
      "execution_count": 40,
      "metadata": {},
      "outputs": [
       {
        "name": "stdout",
        "output_type": "stream",
        "text": [
         "malignant    212\n",
         "benign       357\n",
         "Name: count, dtype: int64\n"
        ]
       }
      ],
      "source": [
       "import pandas as pd\n",
       "from sklearn.datasets import load_breast_cancer\n",
       "\n",
       "def answer_two():\n",
       "    # Get the data\n",
       "    cancer = load_breast_cancer()\n",
       "    \n",
       "    # Create a DataFrame with the data and target\n",
       "    df_cancer = pd.DataFrame(data=cancer.data, columns=cancer.feature_names)\n",
       "    df_cancer['target'] = cancer.target\n",
       "    \n",
       "    # Count the number of instances of each class\n",
       "    class_distribution = df_cancer['target'].value_counts()\n",
       "\n",
       "    # Rename the classes\n",
       "    class_distribution.index = ['benign', 'malignant']\n",
       "    \n",
       "    # Order the classes\n",
       "    class_distribution = class_distribution.sort_index(ascending=False)\n",
       "    \n",
       "    return class_distribution\n",
       "\n",
       "# Execute the function and show the result\n",
       "class_dist = answer_two()\n",
       "print(class_dist)\n"
      ]
     },
     {
      "cell_type": "code",
      "execution_count": 41,
      "metadata": {},
      "outputs": [],
      "source": [
       "# space for professor tests"
      ]
     },
     {
      "cell_type": "markdown",
      "metadata": {},
      "source": [
       "### Problem 1.3\n",
       "\n",
       "Split the DataFrame into `X` (the data) and `y` (the labels).\n",
       "\n",
       "_This function should return a tuple of length 2: `(X, y)`, where:_\n",
       "\n",
       "- _`X` has shape `(569, 30)`_\n",
       "- _`y` has shape `(569,)`._"
      ]
     },
     {
      "cell_type": "code",
      "execution_count": 42,
      "metadata": {},
      "outputs": [
       {
        "name": "stdout",
        "output_type": "stream",
        "text": [
         "(569, 30)\n",
         "(569,)\n"
        ]
       }
      ],
      "source": [
       "import pandas as pd\n",
       "from sklearn.datasets import load_breast_cancer\n",
       "\n",
       "def answer_three():\n",
       "    cancer = load_breast_cancer()\n",
       "    \n",
       "    df_cancer = pd.DataFrame(data=cancer.data, columns=cancer.feature_names)\n",
       "    df_cancer['target'] = cancer.target\n",
       "    \n",
       "    # Split the data into X and y\n",
       "    X = df_cancer[cancer.feature_names]\n",
       "    y = df_cancer['target']\n",
       "    \n",
       "    return X, y\n",
       "\n",
       "# Execute the function and show the result\n",
       "X, y = answer_three()\n",
       "print(X.shape)\n",
       "print(y.shape)\n"
      ]
     },
     {
      "cell_type": "code",
      "execution_count": 43,
      "metadata": {},
      "outputs": [],
      "source": [
       "# space for professor tests"
      ]
     },
     {
      "cell_type": "markdown",
      "metadata": {},
      "source": [
       "### Problem 1.4\n",
       "\n",
       "Using `train_test_split`, split `X` and `y` into training and test sets `(X_train, X_test, y_train, and y_test)`.\n",
       "\n",
       "__Set the random number generator state to 0 using `random_state=0` to make sure your results match the autograder!__\n",
       "\n",
       "_This function should return a tuple of length 4: `(X_train, X_test, y_train, y_test)`, where:_\n",
       "\n",
       "- _`X_train` has shape `(426, 30)`_\n",
       "- _`X_test` has shape `(143, 30)`_\n",
       "- _`y_train` has shape `(426,)`_\n",
       "- _`y_test` has shape `(143,)`_"
      ]
     },
     {
      "cell_type": "code",
      "execution_count": 44,
      "metadata": {},
      "outputs": [
       {
        "name": "stdout",
        "output_type": "stream",
        "text": [
         "(426, 30)\n",
         "(143, 30)\n",
         "(426,)\n",
         "(143,)\n"
        ]
       }
      ],
      "source": [
       "from sklearn.model_selection import train_test_split\n",
       "import pandas as pd\n",
       "from sklearn.datasets import load_breast_cancer\n",
       "\n",
       "def answer_four():\n",
       "    cancer = load_breast_cancer()\n",
       "\n",
       "    df_cancer = pd.DataFrame(data=cancer.data, columns=cancer.feature_names)\n",
       "    df_cancer['target'] = cancer.target\n",
       "    \n",
       "\n",
       "    X = df_cancer[cancer.feature_names]\n",
       "    y = df_cancer['target']\n",
       "    \n",
       "    # Split the data into training and test sets\n",
       "    X_train, X_test, y_train, y_test = train_test_split(X, y, test_size=0.25, random_state=0)\n",
       "    \n",
       "    return X_train, X_test, y_train, y_test\n",
       "\n",
       "# Execute the function and show the result\n",
       "X_train, X_test, y_train, y_test = answer_four()\n",
       "print(X_train.shape)\n",
       "print(X_test.shape)\n",
       "print(y_train.shape)\n",
       "print(y_test.shape)\n"
      ]
     },
     {
      "cell_type": "code",
      "execution_count": 45,
      "metadata": {},
      "outputs": [],
      "source": [
       "# space for professor tests"
      ]
     },
     {
      "cell_type": "markdown",
      "metadata": {},
      "source": [
       "### Problem 1.5\n",
       "\n",
       "Using KNeighborsClassifier, fit a k-nearest neighbors (knn) classifier with `X_train`, `y_train` and using one nearest neighbor (`n_neighbors = 1`).\n",
       "\n",
       "_This function should return a `sklearn.neighbors.classification.KNeighborsClassifier`._"
      ]
     },
     {
      "cell_type": "code",
      "execution_count": 46,
      "metadata": {},
      "outputs": [
       {
        "name": "stdout",
        "output_type": "stream",
        "text": [
         "KNeighborsClassifier(n_neighbors=1)\n"
        ]
       }
      ],
      "source": [
       "from sklearn.neighbors import KNeighborsClassifier\n",
       "\n",
       "def answer_five():\n",
       "    # Get the training and test sets\n",
       "    X_train, X_test, y_train, y_test = answer_four()\n",
       "    \n",
       "    # Create a KNN classifier with k=1\n",
       "    knn = KNeighborsClassifier(n_neighbors=1)\n",
       "    \n",
       "    # Train the classifier\n",
       "    knn.fit(X_train, y_train)\n",
       "    \n",
       "    return knn\n",
       "\n",
       "knn_classifier = answer_five()\n",
       "print(knn_classifier)"
      ]
     },
     {
      "cell_type": "code",
      "execution_count": 47,
      "metadata": {},
      "outputs": [],
      "source": [
       "# space for professor tests"
      ]
     },
     {
      "cell_type": "markdown",
      "metadata": {},
      "source": [
       "### Problem 1.6\n",
       "\n",
       "Using your __knn classifier__, predict the class label using the mean value for each feature.\n",
       "\n",
       "___Hint:___ _You can use `cancer_df.mean()[:-1].values.reshape(1, -1)` which gets the mean value for each feature, ignores the target column, and reshapes the data from 1 dimension to 2 (necessary for the precict method of KNeighborsClassifier)._"
      ]
     },
     {
      "cell_type": "code",
      "execution_count": 48,
      "metadata": {},
      "outputs": [
       {
        "name": "stdout",
        "output_type": "stream",
        "text": [
         "1\n"
        ]
       },
       {
        "name": "stderr",
        "output_type": "stream",
        "text": [
         "/home/kaforerof/.pyenv/versions/3.11.9/envs/introduction/lib/python3.11/site-packages/sklearn/base.py:493: UserWarning: X does not have valid feature names, but KNeighborsClassifier was fitted with feature names\n",
         "  warnings.warn(\n"
        ]
       }
      ],
      "source": [
       "def answer_six():\n",
       "    # Get the KNN classifier\n",
       "    knn = answer_five()\n",
       "    \n",
       "    # Charge the data and create a DataFrame\n",
       "    cancer = load_breast_cancer()\n",
       "    df_cancer = pd.DataFrame(data=cancer.data, columns=cancer.feature_names)\n",
       "    \n",
       "    # Obtener los valores medios de cada característica\n",
       "    mean_values = df_cancer.mean().values.reshape(1, -1)\n",
       "    \n",
       "    # Predecir la etiqueta de clase utilizando los valores medios\n",
       "    prediction = knn.predict(mean_values)\n",
       "    \n",
       "    return prediction[0]\n",
       "\n",
       "# Ejecutar la función y obtener la predicción\n",
       "class_prediction = answer_six()\n",
       "print(class_prediction)"
      ]
     },
     {
      "cell_type": "code",
      "execution_count": 49,
      "metadata": {},
      "outputs": [],
      "source": [
       "# space for professor tests"
      ]
     },
     {
      "cell_type": "markdown",
      "metadata": {},
      "source": [
       "### Problem 1.7\n",
       "\n",
       "Using your __knn classifier__, predict the class labels for the test set `X_test`.\n",
       "\n",
       "_This function should return a numpy array with shape `(143,)` and values either `0.0` or `1.0`._"
      ]
     },
     {
      "cell_type": "code",
      "execution_count": 50,
      "metadata": {},
      "outputs": [
       {
        "name": "stdout",
        "output_type": "stream",
        "text": [
         "[1 1 1 0 1 1 1 1 1 1 0 1 1 1 0 0 1 0 0 0 0 1 1 1 0 1 1 1 1 0 1 0 1 0 1 0 1\n",
         " 0 1 0 0 1 0 1 0 0 1 1 1 0 0 1 0 1 1 1 1 1 1 0 0 0 1 1 0 1 0 0 0 1 1 0 1 1\n",
         " 0 1 1 1 1 1 0 0 0 1 0 1 1 1 0 0 1 0 1 0 1 1 0 1 1 1 1 1 1 1 0 1 0 1 0 1 1\n",
         " 0 0 1 1 1 0 1 1 1 1 1 1 1 0 1 1 1 1 1 0 1 1 1 1 1 1 0 0 1 1 1 0]\n",
         "(143,)\n"
        ]
       }
      ],
      "source": [
       "def answer_seven():\n",
       "    # Get the trained KNN classifier\n",
       "    knn = answer_five()\n",
       "    \n",
       "    # Get the training and test sets\n",
       "    X_train, X_test, y_train, y_test = answer_four()\n",
       "    \n",
       "    # Predict the test set\n",
       "    predictions = knn.predict(X_test)\n",
       "    \n",
       "    return predictions\n",
       "\n",
       "test_predictions = answer_seven()\n",
       "print(test_predictions)\n",
       "print(test_predictions.shape)\n"
      ]
     },
     {
      "cell_type": "code",
      "execution_count": 51,
      "metadata": {},
      "outputs": [],
      "source": [
       "# space for professor tests"
      ]
     },
     {
      "cell_type": "markdown",
      "metadata": {},
      "source": [
       "### Problem 1.8\n",
       "\n",
       "Find the score (_mean accuracy_) of your __knn classifier__ using `X_test` and `y_test`.\n",
       "\n",
       "_This function should return a float between $0$ and $1$._"
      ]
     },
     {
      "cell_type": "code",
      "execution_count": 52,
      "metadata": {},
      "outputs": [
       {
        "name": "stdout",
        "output_type": "stream",
        "text": [
         "Accuracy: 0.916083916083916\n"
        ]
       }
      ],
      "source": [
       "def answer_eight():\n",
       "    # Get the trained KNN classifier\n",
       "    knn = answer_five()\n",
       "    \n",
       "    # Get the training and test sets of data\n",
       "    X_train, X_test, y_train, y_test = answer_four()\n",
       "    \n",
       "    # Calculate the accuracy of the classifier\n",
       "    accuracy = knn.score(X_test, y_test)\n",
       "    \n",
       "    return accuracy\n",
       "\n",
       "knn_accuracy = answer_eight()\n",
       "print('Accuracy:', knn_accuracy)"
      ]
     },
     {
      "cell_type": "code",
      "execution_count": 53,
      "metadata": {},
      "outputs": [],
      "source": [
       "# space for professor tests"
      ]
     },
     {
      "cell_type": "markdown",
      "metadata": {},
      "source": [
       "### Problem 1.9\n",
       "\n",
       "Using the plotting function below to visualize the different predicition scores between _train_ and _test sets_, as well as malignant and benign cells."
      ]
     },
     {
      "cell_type": "code",
      "execution_count": 54,
      "metadata": {},
      "outputs": [
       {
        "name": "stdout",
        "output_type": "stream",
        "text": [
         "Train Accuracy: 1.0\n",
         "Test Accuracy: 0.916083916083916\n",
         "Benign Test Accuracy: 0.9444444444444444\n",
         "Malignant Test Accuracy: 0.8679245283018868\n"
        ]
       },
       {
        "data": {
         "image/png": "[encoded data removed]",
         "text/plain": [
          "<Figure size 640x480 with 1 Axes>"
         ]
        },
        "metadata": {},
        "output_type": "display_data"
       }
      ],
      "source": [
       "import matplotlib.pyplot as plt\n",
       "import numpy as np\n",
       "\n",
       "def answer_nine():\n",
       "    # Get the trained KNN classifier\n",
       "    knn = answer_five()\n",
       "    X_train, X_test, y_train, y_test = answer_four()\n",
       "    \n",
       "    # Calculate the predictions for the X_train and X_test sets\n",
       "    train_predictions = knn.predict(X_train)\n",
       "    test_predictions = knn.predict(X_test)\n",
       "    \n",
       "    # Calculate the predictions for the Y_train and Y_test sets\n",
       "    train_accuracy = np.mean(train_predictions == y_train)\n",
       "    test_accuracy = np.mean(test_predictions == y_test)\n",
       "    \n",
       "    # Split the test set into benign and malignant samples\n",
       "    benign_test_mask = y_test == 1\n",
       "    malignant_test_mask = y_test == 0\n",
       "    \n",
       "    benign_predictions = test_predictions[benign_test_mask]\n",
       "    malignant_predictions = test_predictions[malignant_test_mask]\n",
       "    \n",
       "    benign_accuracy = np.mean(benign_predictions == y_test[benign_test_mask])\n",
       "    malignant_accuracy = np.mean(malignant_predictions == y_test[malignant_test_mask])\n",
       "    \n",
       "    # See the results in the console\n",
       "    print(f\"Train Accuracy: {train_accuracy}\")\n",
       "    print(f\"Test Accuracy: {test_accuracy}\")\n",
       "    print(f\"Benign Test Accuracy: {benign_accuracy}\")\n",
       "    print(f\"Malignant Test Accuracy: {malignant_accuracy}\")\n",
       "    \n",
       "    # Create a bar chart with the results\n",
       "    labels = ['Train Set', 'Test Set', 'Benign (Test)', 'Malignant (Test)']\n",
       "    accuracies = [train_accuracy, test_accuracy, benign_accuracy, malignant_accuracy]\n",
       "    \n",
       "    fig, ax = plt.subplots()\n",
       "    ax.bar(labels, accuracies, color=['purple', 'green', 'orange', 'red'])\n",
       "    \n",
       "    ax.set_ylim(0, 1)\n",
       "    ax.set_ylabel('Accuracy')\n",
       "    ax.set_title('Accuracy of KNN Classifier')\n",
       "    \n",
       "    plt.show()\n",
       "\n",
       "answer_nine()\n"
      ]
     },
     {
      "cell_type": "markdown",
      "metadata": {},
      "source": [
       "## Section 2\n",
       "\n",
       "In this case, you are going to use a _.csv_ dataset to evaluate some performance."
      ]
     },
     {
      "cell_type": "code",
      "execution_count": 55,
      "metadata": {},
      "outputs": [],
      "source": [
       "# depencencies\n",
       "import numpy as np\n",
       "import pandas as pd"
      ]
     },
     {
      "cell_type": "markdown",
      "metadata": {},
      "source": [
       "### Problem 2.1\n",
       "\n",
       "Import the data from `assets/fraud_data.csv`. What percentage of the observations in the dataset are instances of fraud?\n",
       "\n",
       "_This function should return a float between $0$ and $1$._"
      ]
     },
     {
      "cell_type": "code",
      "execution_count": 56,
      "metadata": {},
      "outputs": [
       {
        "data": {
         "text/plain": [
          "0.016410823768035772"
         ]
        },
        "execution_count": 56,
        "metadata": {},
        "output_type": "execute_result"
       }
      ],
      "source": [
       "import pandas as pd\n",
       "\n",
       "def answer_eleven():\n",
       "    # Get the data\n",
       "    df_fraud = pd.read_csv('assets/fraud_data.csv')\n",
       "    \n",
       "    # Calculate the percentage of fraud instances in the dataset\n",
       "    num_observations = df_fraud.shape[0]\n",
       "    num_fraud_instances = df_fraud['Class'].value_counts()[1]\n",
       "    fraud_percentage = num_fraud_instances / num_observations\n",
       "    \n",
       "    return fraud_percentage\n",
       "\n",
       "answer_eleven()\n"
      ]
     },
     {
      "cell_type": "code",
      "execution_count": 57,
      "metadata": {},
      "outputs": [],
      "source": [
       "# space for professor tests"
      ]
     },
     {
      "cell_type": "code",
      "execution_count": 58,
      "metadata": {},
      "outputs": [],
      "source": [
       "# Use X_train, X_test, y_train, y_test for all of the following questions\n",
       "from sklearn.model_selection import train_test_split\n",
       "\n",
       "df = pd.read_csv('assets/fraud_data.csv')\n",
       "\n",
       "X = df.iloc[:,:-1]\n",
       "y = df.iloc[:,-1]\n",
       "\n",
       "X_train, X_test, y_train, y_test = train_test_split(X, y, random_state=0)"
      ]
     },
     {
      "cell_type": "markdown",
      "metadata": {},
      "source": [
       "### Problem 2.2\n",
       "\n",
       "Using `X_train`, `X_test`, `y_train`, and `y_test` (as defined above), train a dummy classifier that classifies everything as the majority class of the training data. What is the accuracy of this classifier? What is the recall?\n",
       "\n",
       "_This function should a return a tuple with two floats, i.e. `(accuracy score, recall score)`._"
      ]
     },
     {
      "cell_type": "code",
      "execution_count": 59,
      "metadata": {},
      "outputs": [
       {
        "data": {
         "text/plain": [
          "(0.9852507374631269, 0.0)"
         ]
        },
        "execution_count": 59,
        "metadata": {},
        "output_type": "execute_result"
       }
      ],
      "source": [
       "from sklearn.dummy import DummyClassifier\n",
       "from sklearn.metrics import recall_score, accuracy_score\n",
       "\n",
       "def answer_twelve():\n",
       "    \n",
       "    # Get the training and test sets\n",
       "    dummy_classifier = DummyClassifier(strategy='most_frequent')\n",
       "    dummy_classifier.fit(X_train, y_train)\n",
       "    \n",
       "    # Predict the labels for the test set\n",
       "    y_hat = dummy_classifier.predict(X_test)\n",
       "    \n",
       "    # Calculate the accuracy and recall\n",
       "    acc = accuracy_score(y_test, y_hat)\n",
       "    recall = recall_score(y_test, y_hat)\n",
       "    \n",
       "    return (acc, recall)\n",
       "\n",
       "answer_twelve()\n"
      ]
     },
     {
      "cell_type": "code",
      "execution_count": 60,
      "metadata": {},
      "outputs": [],
      "source": [
       "# space for professor tests"
      ]
     },
     {
      "cell_type": "markdown",
      "metadata": {},
      "source": [
       "### Problem 2.3\n",
       "\n",
       "Using `X_train`, `X_test`, `y_train`, and `y_test` (as defined above), train a _XGBoost_ classifer using the default parameters. What is the accuracy, recall, precision, and F1 Score of this classifier?\n",
       "\n",
       "_This function should a return a tuple with three floats, i.e. `(accuracy score, recall score, precision score, f1 score)`._"
      ]
     },
     {
      "cell_type": "code",
      "execution_count": 61,
      "metadata": {},
      "outputs": [
       {
        "name": "stdout",
        "output_type": "stream",
        "text": [
         "(0.9968657817109144, 0.8125, 0.9701492537313433, 0.8843537414965986)\n"
        ]
       }
      ],
      "source": [
       "from sklearn.metrics import accuracy_score, recall_score, precision_score, f1_score\n",
       "from xgboost import XGBClassifier\n",
       "\n",
       "def answer_thirteen():\n",
       "    # Create an XGBoost classifier and train it\n",
       "    xgb_classifier = XGBClassifier(eval_metric='logloss')\n",
       "    xgb_classifier.fit(X_train, y_train)\n",
       "    \n",
       "    # Do the predictions\n",
       "    y_pred = xgb_classifier.predict(X_test)\n",
       "    \n",
       "    # Calculate the metrics\n",
       "    acc = accuracy_score(y_test, y_pred)\n",
       "    recall = recall_score(y_test, y_pred)\n",
       "    precision = precision_score(y_test, y_pred)\n",
       "    f1 = f1_score(y_test, y_pred)\n",
       "    \n",
       "    return (acc, recall, precision, f1)\n",
       "\n",
       "print(answer_thirteen())\n"
      ]
     },
     {
      "cell_type": "code",
      "execution_count": 62,
      "metadata": {},
      "outputs": [],
      "source": [
       "# space for professor tests"
      ]
     }
    ],
    "metadata": {
     "kernelspec": {
      "display_name": "data_science_course",
      "language": "python",
      "name": "python3"
     },
     "language_info": {
      "codemirror_mode": {
       "name": "ipython",
       "version": 3
      },
      "file_extension": ".py",
      "mimetype": "text/x-python",
      "name": "python",
      "nbconvert_exporter": "python",
      "pygments_lexer": "ipython3",
      "version": "3.11.9"
     }
    },
    "nbformat": 4,
    "nbformat_minor": 2
   }
   